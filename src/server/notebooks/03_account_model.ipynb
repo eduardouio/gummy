{
 "cells": [
  {
   "cell_type": "code",
   "execution_count": null,
   "metadata": {
    "ExecuteTime": {
     "end_time": "2024-04-15T16:53:23.711551Z",
     "start_time": "2024-04-15T16:53:22.823973Z"
    },
    "tags": []
   },
   "outputs": [],
   "source": [
    "import os\n",
    "\n",
    "import django\n",
    "from django.core.exceptions import ObjectDoesNotExist\n",
    "import pandas as pd\n",
    "import networkx as nx\n",
    "from matplotlib import pyplot as plt\n",
    "from random import randint\n",
    "\n",
    "# for easier visualization it is recommended to use pandas to render data...\n",
    "# if pandas is not installed, you may install it with this command: pip install -U pandas\n",
    "# pandas is not a dependency of django_ledger...\n",
    "\n",
    "# Set your django settings module if needed...\n",
    "os.environ['DJANGO_SETTINGS_MODULE'] = 'django_ledger_starter.settings'\n",
    "\n",
    "# if using jupyter notebook need to set DJANGO_ALLOW_ASYNC_UNSAFE as \"true\"\n",
    "os.environ['DJANGO_ALLOW_ASYNC_UNSAFE'] = 'true'\n",
    "\n",
    "# change your working directory as needed...\n",
    "os.chdir('../')\n",
    "\n",
    "django.setup()\n",
    "\n",
    "from django_ledger.models import EntityModel, ChartOfAccountModel, AccountModel, DEBIT, CREDIT\n",
    "from django_ledger.io import roles\n",
    "from django_ledger import __version__ as DJL_VERSION\n",
    "from django.contrib.auth import get_user_model\n",
    "\n",
    "print(f'Using Django Ledger Version v{DJL_VERSION}')"
   ]
  },
  {
   "cell_type": "markdown",
   "metadata": {},
   "source": [
    "# Account Model\n",
    "- An Account Model is a bucket of money that has a specific role in the financial ecosystem of an entity.\n",
    "- Its balance represents amount of money present in the financial records of the Entity for a given accounting period.\n",
    "- The total balance of an Account is increased or decreased by adding DEBIT or CREDIT Transactions to its ledger.\n",
    "- Depending on the Balance Type of the Account, a DEBIT or a CREDIT will have different impacts on its total balance.\n",
    "- Examples of Accounts Models are *Bank Accounts, Credit Cards, Mortgage Balances, Accounts Payable, etc*."
   ]
  },
  {
   "cell_type": "markdown",
   "metadata": {},
   "source": [
    " <img src=\"./assets/djl_core_model_account.png\" alt=\"Django Ledger Core Model\" width=\"1200\" height=\"600\"> "
   ]
  },
  {
   "cell_type": "markdown",
   "metadata": {},
   "source": [
    "#### For comprehensive documentation on the Account Model API you can go to the Official Django Ledger Documentation Site.\n",
    "[Account Model Documentation](https://django-ledger.readthedocs.io/en/latest/models.html#module-django_ledger.models.accounts)"
   ]
  },
  {
   "cell_type": "markdown",
   "metadata": {},
   "source": [
    "# Get Your Entity Administrator UserModel"
   ]
  },
  {
   "cell_type": "code",
   "execution_count": null,
   "metadata": {
    "ExecuteTime": {
     "end_time": "2024-04-15T16:53:25.870123Z",
     "start_time": "2024-04-15T16:53:25.862437Z"
    },
    "tags": []
   },
   "outputs": [],
   "source": [
    "# change this to your preferred django username...\n",
    "MY_USERNAME = 'ceo_user'\n",
    "MY_PASSWORD = 'NeverUseMe|VeryInsecure!'\n",
    "UserModel = get_user_model()\n",
    "\n",
    "try:\n",
    "    ceo_user = UserModel.objects.get(username__exact=MY_USERNAME)\n",
    "except:\n",
    "    ceo_user = UserModel(username=MY_USERNAME)\n",
    "    ceo_user.set_password(MY_PASSWORD)\n",
    "    ceo_user.save()"
   ]
  },
  {
   "cell_type": "markdown",
   "metadata": {},
   "source": [
    "# Get or Create an Entity Model"
   ]
  },
  {
   "cell_type": "code",
   "execution_count": null,
   "metadata": {
    "ExecuteTime": {
     "end_time": "2024-04-15T16:53:26.608283Z",
     "start_time": "2024-04-15T16:53:26.597908Z"
    },
    "tags": []
   },
   "outputs": [],
   "source": [
    "ENTITY_NAME = f'Account Model Notebook {randint(1000, 9999)}, LLC'\n",
    "\n",
    "try:\n",
    "    entity_model: EntityModel = EntityModel.objects.for_user(\n",
    "        user_model=ceo_user).get(name__exact=ENTITY_NAME)\n",
    "except ObjectDoesNotExist:\n",
    "    entity_model = EntityModel.create_entity(\n",
    "        name=ENTITY_NAME,\n",
    "        admin=ceo_user,\n",
    "        use_accrual_method=False,\n",
    "        fy_start_month=1\n",
    "    )\n",
    "\n",
    "entity_model"
   ]
  },
  {
   "cell_type": "markdown",
   "metadata": {
    "collapsed": false,
    "jupyter": {
     "outputs_hidden": false
    }
   },
   "source": [
    "# Let's Create a Chart of Accounts to Work With"
   ]
  },
  {
   "cell_type": "code",
   "execution_count": null,
   "metadata": {
    "ExecuteTime": {
     "end_time": "2024-04-15T16:53:49.665336Z",
     "start_time": "2024-04-15T16:53:49.641514Z"
    }
   },
   "outputs": [],
   "source": [
    "coa_model: ChartOfAccountModel = entity_model.create_chart_of_accounts(\n",
    "    coa_name='Account Model Notebook CoA',\n",
    "    commit=True,\n",
    "    assign_as_default=True\n",
    ")"
   ]
  },
  {
   "cell_type": "code",
   "execution_count": null,
   "metadata": {
    "ExecuteTime": {
     "end_time": "2024-04-15T16:53:50.793654Z",
     "start_time": "2024-04-15T16:53:50.790776Z"
    },
    "collapsed": false,
    "jupyter": {
     "outputs_hidden": false
    }
   },
   "outputs": [],
   "source": [
    "coa_model"
   ]
  },
  {
   "cell_type": "markdown",
   "metadata": {
    "collapsed": false,
    "jupyter": {
     "outputs_hidden": false
    }
   },
   "source": [
    "# The Root Accounts Are Automatically Created\n",
    "- Not used for transactions."
   ]
  },
  {
   "cell_type": "code",
   "execution_count": null,
   "metadata": {
    "ExecuteTime": {
     "end_time": "2024-04-15T16:54:12.994644Z",
     "start_time": "2024-04-15T16:54:12.839462Z"
    }
   },
   "outputs": [],
   "source": [
    "coa_tree = coa_model.get_coa_account_tree()\n",
    "G = nx.from_dict_of_dicts({\n",
    "    f\"{l1['data']['code']}\\n{l1['data']['name']}\\nLocked: {l1['data']['locked']}\": {\n",
    "        f\"{l2['data']['code']}\\n{l2['data']['name']}\\nLocked: {l2['data']['locked']}\": {\n",
    "            'weight': 1\n",
    "        } for l2 in l1['children']\n",
    "    } for l1 in coa_tree\n",
    "}, create_using=nx.DiGraph)\n",
    "\n",
    "options = {\n",
    "    'font_size': 14,\n",
    "    # 'font_color': 'red',\n",
    "    'node_size': 8000,\n",
    "    'node_color': 'white',\n",
    "    'edgecolors': 'black',\n",
    "    'linewidths': 2,\n",
    "    'width': 3,\n",
    "}\n",
    "\n",
    "fig, ax = plt.subplots(figsize=(12, 12))\n",
    "ax.margins(0.2, 0.2)\n",
    "nx.draw_networkx(G, pos=nx.planar_layout(G), **options)\n",
    "ax.set_title(f'Django Ledger | Initial Code of Accounts Structure')"
   ]
  },
  {
   "cell_type": "markdown",
   "metadata": {
    "collapsed": false,
    "jupyter": {
     "outputs_hidden": false
    }
   },
   "source": [
    "# Create Your First Account"
   ]
  },
  {
   "cell_type": "markdown",
   "metadata": {},
   "source": [
    "### Beware of the Balance Type"
   ]
  },
  {
   "cell_type": "markdown",
   "metadata": {
    "jp-MarkdownHeadingCollapsed": true
   },
   "source": [
    "- Define the new account balance type: DEBIT/CREDIT\n",
    "- Define the new account code\n",
    "- Define the Account Role"
   ]
  },
  {
   "cell_type": "markdown",
   "metadata": {},
   "source": [
    "- BT: DEBIT -> DEBIT Increase Blance\n",
    "- BT: DEBIT -> CREDIT Decrease Blance\n",
    "\n",
    "- BT: CREDIT -> DEBIT Decrease Blance\n",
    "- BT: CREDIT -> CREDIT Increase Blance"
   ]
  },
  {
   "cell_type": "code",
   "execution_count": null,
   "metadata": {},
   "outputs": [],
   "source": [
    "# roles.INCOME_OPERATIONAL"
   ]
  },
  {
   "cell_type": "code",
   "execution_count": null,
   "metadata": {},
   "outputs": [],
   "source": [
    "# pd.DataFrame(roles.VALID_ROLES)"
   ]
  },
  {
   "cell_type": "markdown",
   "metadata": {},
   "source": [
    "### Select the Appropriate Account Role"
   ]
  },
  {
   "cell_type": "markdown",
   "metadata": {},
   "source": [
    "- CASH/BANK ACCOUNT -> roles.ASSET_CA_CASH\n",
    "- CREDIT CARD -> roles.LIABILITY_CL_ACC_PAYABLE\n",
    "\n",
    "- EXPENSE -> roles.EXPENSE_OPERATIONAL\n",
    "- INCOME -> roles.INCOME_OPERATIONAL"
   ]
  },
  {
   "cell_type": "markdown",
   "metadata": {
    "collapsed": false,
    "jupyter": {
     "outputs_hidden": false
    }
   },
   "source": [
    "## Direct Model Instantiation Will Not Work"
   ]
  },
  {
   "cell_type": "code",
   "execution_count": null,
   "metadata": {
    "ExecuteTime": {
     "end_time": "2024-04-15T16:55:36.065314Z",
     "start_time": "2024-04-15T16:55:35.817216Z"
    },
    "collapsed": false,
    "jupyter": {
     "outputs_hidden": false
    }
   },
   "outputs": [],
   "source": [
    "account_model_cash = AccountModel(\n",
    "    code='1101',\n",
    "    name='Big Bank Checking Account',\n",
    "    role=roles.ASSET_CA_CASH,\n",
    "    balance_type=DEBIT,\n",
    "    coa_model=coa_model,\n",
    "    active=False\n",
    ")\n",
    "account_model_cash.clean()\n",
    "\n",
    "# This is because accounts need to be inserted into the account tree model.\n",
    "account_model_cash.save()"
   ]
  },
  {
   "cell_type": "markdown",
   "metadata": {
    "collapsed": false,
    "jupyter": {
     "outputs_hidden": false
    }
   },
   "source": [
    "## Use the provided Entity Model API"
   ]
  },
  {
   "cell_type": "code",
   "execution_count": null,
   "metadata": {
    "ExecuteTime": {
     "end_time": "2024-04-15T16:55:38.778393Z",
     "start_time": "2024-04-15T16:55:38.773272Z"
    }
   },
   "outputs": [],
   "source": [
    "account_model_cash = entity_model.create_account(\n",
    "    code='1101',\n",
    "    name='Big Bank Checking Account',\n",
    "    role=roles.ASSET_CA_CASH,\n",
    "    balance_type=DEBIT,\n",
    "    coa_model=coa_model,\n",
    "    active=False\n",
    ")"
   ]
  },
  {
   "cell_type": "code",
   "execution_count": null,
   "metadata": {
    "ExecuteTime": {
     "end_time": "2024-04-15T16:55:39.335520Z",
     "start_time": "2024-04-15T16:55:39.333279Z"
    }
   },
   "outputs": [],
   "source": [
    "account_model_cash"
   ]
  },
  {
   "cell_type": "markdown",
   "metadata": {},
   "source": [
    "## Let's create an account of type Expense"
   ]
  },
  {
   "cell_type": "code",
   "execution_count": null,
   "metadata": {
    "ExecuteTime": {
     "end_time": "2024-04-15T16:55:41.463340Z",
     "start_time": "2024-04-15T16:55:41.353535Z"
    }
   },
   "outputs": [],
   "source": [
    "account_model_expense = entity_model.create_account(\n",
    "    code='1102',\n",
    "    name='Office Expenses',\n",
    "    role=roles.EXPENSE_OPERATIONAL,\n",
    "    balance_type=DEBIT,\n",
    "    coa_model=coa_model,\n",
    "    active=False\n",
    ")"
   ]
  },
  {
   "cell_type": "markdown",
   "metadata": {},
   "source": [
    "## Account Codes MUST Follow The Convention:\n",
    "- **1**: Assets\n",
    "- **2**: Liabilities\n",
    "- **3**: Capital/Equity\n",
    "- **4**: Income\n",
    "- **5**: COGS\n",
    "- **6**: Expense"
   ]
  },
  {
   "cell_type": "code",
   "execution_count": null,
   "metadata": {
    "ExecuteTime": {
     "end_time": "2024-04-15T16:55:45.668790Z",
     "start_time": "2024-04-15T16:55:45.659386Z"
    }
   },
   "outputs": [],
   "source": [
    "account_model_expense = entity_model.create_account(\n",
    "    code='6102',\n",
    "    name='Office Expenses',\n",
    "    role=roles.EXPENSE_OPERATIONAL,\n",
    "    balance_type=DEBIT,\n",
    "    coa_model=coa_model,\n",
    "    active=False\n",
    ")"
   ]
  },
  {
   "cell_type": "code",
   "execution_count": null,
   "metadata": {
    "ExecuteTime": {
     "end_time": "2024-04-15T16:55:46.542121Z",
     "start_time": "2024-04-15T16:55:46.539528Z"
    }
   },
   "outputs": [],
   "source": [
    "account_model_expense"
   ]
  },
  {
   "cell_type": "markdown",
   "metadata": {},
   "source": [
    "### Account numbers are unique for each Chart of Accounts"
   ]
  },
  {
   "cell_type": "code",
   "execution_count": null,
   "metadata": {
    "ExecuteTime": {
     "end_time": "2024-04-15T16:55:49.882438Z",
     "start_time": "2024-04-15T16:55:49.789127Z"
    },
    "collapsed": false,
    "jupyter": {
     "outputs_hidden": false
    }
   },
   "outputs": [],
   "source": [
    "entity_model.create_account(\n",
    "    code='6102',\n",
    "    name='Office Expenses #2',\n",
    "    role=roles.EXPENSE_OPERATIONAL,\n",
    "    balance_type=DEBIT,\n",
    "    coa_model=coa_model,\n",
    "    active=False\n",
    ")"
   ]
  },
  {
   "cell_type": "markdown",
   "metadata": {},
   "source": [
    "# Get Your Account Models"
   ]
  },
  {
   "cell_type": "markdown",
   "metadata": {},
   "source": [
    "### Option 1: Use the CoA"
   ]
  },
  {
   "cell_type": "code",
   "execution_count": null,
   "metadata": {
    "ExecuteTime": {
     "end_time": "2024-04-15T16:57:13.929063Z",
     "start_time": "2024-04-15T16:57:13.923682Z"
    },
    "collapsed": false,
    "jupyter": {
     "outputs_hidden": false
    }
   },
   "outputs": [],
   "source": [
    "account_model_qs = coa_model.get_non_root_coa_accounts_qs()\n",
    "pd.DataFrame(account_model_qs.values(\n",
    "    'coa_model__name',\n",
    "    'coa_model__slug',\n",
    "    'code',\n",
    "    'name',\n",
    "    'balance_type',\n",
    "    'role',\n",
    "    'locked',\n",
    "    'active'\n",
    "))"
   ]
  },
  {
   "cell_type": "markdown",
   "metadata": {},
   "source": [
    "### Option 2: Use the Entity Instance\n",
    "- Uses default CoA if coa_model is None"
   ]
  },
  {
   "cell_type": "code",
   "execution_count": null,
   "metadata": {
    "ExecuteTime": {
     "end_time": "2024-04-15T17:27:36.091847Z",
     "start_time": "2024-04-15T17:27:36.085184Z"
    }
   },
   "outputs": [],
   "source": [
    "account_model_qs = entity_model.get_coa_accounts()\n",
    "pd.DataFrame(account_model_qs.values())"
   ]
  },
  {
   "cell_type": "code",
   "execution_count": null,
   "metadata": {
    "ExecuteTime": {
     "end_time": "2024-04-15T17:27:38.138727Z",
     "start_time": "2024-04-15T17:27:38.127003Z"
    }
   },
   "outputs": [],
   "source": [
    "account_model_qs = entity_model.get_coa_accounts(\n",
    "    coa_model=coa_model,\n",
    "    active=False)\n",
    "pd.DataFrame(account_model_qs.values())"
   ]
  },
  {
   "cell_type": "code",
   "execution_count": null,
   "metadata": {
    "ExecuteTime": {
     "end_time": "2024-04-15T17:34:03.703770Z",
     "start_time": "2024-04-15T17:34:03.697429Z"
    }
   },
   "outputs": [],
   "source": [
    "account_model_qs = entity_model.get_default_coa_accounts(active=False)\n",
    "pd.DataFrame(account_model_qs.values())"
   ]
  },
  {
   "cell_type": "markdown",
   "metadata": {},
   "source": [
    "### Gets ALL the accounts, regardless of the CoA Model!"
   ]
  },
  {
   "cell_type": "code",
   "execution_count": null,
   "metadata": {
    "ExecuteTime": {
     "end_time": "2024-04-15T17:29:02.248611Z",
     "start_time": "2024-04-15T17:29:02.239540Z"
    }
   },
   "outputs": [],
   "source": [
    "account_model_qs = entity_model.get_all_accounts(active=False)\n",
    "pd.DataFrame(\n",
    "    account_model_qs.values(\n",
    "        'coa_model__name',\n",
    "        'coa_model__slug',\n",
    "        'code',\n",
    "        'name',\n",
    "        'balance_type',\n",
    "        'role',\n",
    "        'locked',\n",
    "        'active'\n",
    "    ))"
   ]
  },
  {
   "cell_type": "code",
   "execution_count": null,
   "metadata": {
    "ExecuteTime": {
     "end_time": "2024-04-15T17:36:18.060106Z",
     "start_time": "2024-04-15T17:36:18.057952Z"
    }
   },
   "outputs": [],
   "source": [
    "# coa_model."
   ]
  },
  {
   "cell_type": "markdown",
   "metadata": {},
   "source": [
    "# Account Status"
   ]
  },
  {
   "cell_type": "markdown",
   "metadata": {},
   "source": [
    "#### Active Status"
   ]
  },
  {
   "cell_type": "code",
   "execution_count": null,
   "metadata": {
    "ExecuteTime": {
     "end_time": "2024-04-15T17:36:18.947540Z",
     "start_time": "2024-04-15T17:36:18.945560Z"
    }
   },
   "outputs": [],
   "source": [
    "account_model_cash.is_active()"
   ]
  },
  {
   "cell_type": "code",
   "execution_count": null,
   "metadata": {
    "ExecuteTime": {
     "end_time": "2024-04-15T17:36:19.737475Z",
     "start_time": "2024-04-15T17:36:19.734987Z"
    }
   },
   "outputs": [],
   "source": [
    "account_model_cash.can_activate()"
   ]
  },
  {
   "cell_type": "code",
   "execution_count": null,
   "metadata": {
    "ExecuteTime": {
     "end_time": "2024-04-15T17:36:22.696370Z",
     "start_time": "2024-04-15T17:36:22.692413Z"
    }
   },
   "outputs": [],
   "source": [
    "account_model_cash.activate()\n",
    "account_model_expense.activate()"
   ]
  },
  {
   "cell_type": "code",
   "execution_count": null,
   "metadata": {
    "ExecuteTime": {
     "end_time": "2024-04-15T17:43:15.636260Z",
     "start_time": "2024-04-15T17:43:15.626269Z"
    }
   },
   "outputs": [],
   "source": [
    "account_model_qs = entity_model.get_coa_accounts(coa_model=coa_model)\n",
    "pd.DataFrame(account_model_qs.values())"
   ]
  },
  {
   "cell_type": "markdown",
   "metadata": {},
   "source": [
    "# Account Methods"
   ]
  },
  {
   "cell_type": "code",
   "execution_count": null,
   "metadata": {
    "ExecuteTime": {
     "end_time": "2024-04-15T17:55:02.291525Z",
     "start_time": "2024-04-15T17:55:02.276988Z"
    }
   },
   "outputs": [],
   "source": [
    "pd.Series({\n",
    "    'is_asset': account_model_cash.is_asset(),\n",
    "    'is_liability': account_model_cash.is_liability(),\n",
    "    'is_capital': account_model_cash.is_capital(),\n",
    "    'is_income': account_model_cash.is_income(),\n",
    "    'is_cogs': account_model_cash.is_cogs(),\n",
    "    'is_expense': account_model_cash.is_expense(),\n",
    "    'can_activate': account_model_cash.can_activate(),\n",
    "    'can_deactivate': account_model_cash.can_deactivate(),\n",
    "    'is_locked': account_model_cash.is_locked(),\n",
    "}, name=account_model_cash)"
   ]
  },
  {
   "cell_type": "code",
   "execution_count": null,
   "metadata": {
    "ExecuteTime": {
     "end_time": "2024-04-15T17:55:46.911404Z",
     "start_time": "2024-04-15T17:55:46.907614Z"
    }
   },
   "outputs": [],
   "source": [
    "pd.Series({\n",
    "    'is_asset': account_model_expense.is_asset(),\n",
    "    'is_liability': account_model_expense.is_liability(),\n",
    "    'is_capital': account_model_expense.is_capital(),\n",
    "    'is_income': account_model_expense.is_income(),\n",
    "    'is_cogs': account_model_expense.is_cogs(),\n",
    "    'is_expense': account_model_expense.is_expense(),\n",
    "    'can_activate': account_model_expense.can_activate(),\n",
    "    'can_deactivate': account_model_expense.can_deactivate(),\n",
    "    'is_locked': account_model_expense.is_locked(),\n",
    "}, name=account_model_expense)"
   ]
  },
  {
   "cell_type": "markdown",
   "metadata": {},
   "source": [
    "# Account Model UI"
   ]
  },
  {
   "cell_type": "code",
   "execution_count": null,
   "metadata": {
    "ExecuteTime": {
     "end_time": "2024-04-15T17:56:40.922754Z",
     "start_time": "2024-04-15T17:56:40.917861Z"
    }
   },
   "outputs": [],
   "source": [
    "URL = coa_model.get_account_list_url()\n",
    "URL = f'http://localhost:8000{URL}'\n",
    "URL"
   ]
  },
  {
   "cell_type": "markdown",
   "metadata": {},
   "source": [
    "# Automatically Populate a CoA With the Default Chart of Accounts from Django Ledger"
   ]
  },
  {
   "cell_type": "code",
   "execution_count": null,
   "metadata": {},
   "outputs": [],
   "source": [
    "coa_model_2 = entity_model.create_chart_of_accounts(\n",
    "    coa_name='Tutorial CoA'\n",
    ")"
   ]
  },
  {
   "cell_type": "code",
   "execution_count": null,
   "metadata": {},
   "outputs": [],
   "source": [
    "coa_model_2.get_non_root_coa_accounts_qs()"
   ]
  },
  {
   "cell_type": "code",
   "execution_count": null,
   "metadata": {},
   "outputs": [],
   "source": [
    "entity_model.set_default_coa(coa_model_2)"
   ]
  },
  {
   "cell_type": "code",
   "execution_count": null,
   "metadata": {},
   "outputs": [],
   "source": [
    "entity_model.populate_default_coa()"
   ]
  },
  {
   "cell_type": "code",
   "execution_count": null,
   "metadata": {},
   "outputs": [],
   "source": [
    "coa_model_2.get_non_root_coa_accounts_qs()"
   ]
  },
  {
   "cell_type": "code",
   "execution_count": null,
   "metadata": {},
   "outputs": [],
   "source": []
  }
 ],
 "metadata": {
  "kernelspec": {
   "display_name": "Python 3 (ipykernel)",
   "language": "python",
   "name": "python3"
  },
  "language_info": {
   "codemirror_mode": {
    "name": "ipython",
    "version": 3
   },
   "file_extension": ".py",
   "mimetype": "text/x-python",
   "name": "python",
   "nbconvert_exporter": "python",
   "pygments_lexer": "ipython3",
   "version": "3.11.6"
  }
 },
 "nbformat": 4,
 "nbformat_minor": 4
}
